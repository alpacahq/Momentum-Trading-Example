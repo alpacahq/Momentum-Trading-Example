{
 "cells": [
  {
   "cell_type": "code",
   "execution_count": null,
   "metadata": {},
   "outputs": [],
   "source": []
  },
  {
   "cell_type": "markdown",
   "metadata": {},
   "source": [
    "# Momentum-Trading-Example\n",
    "\n",
    "An example algorithm for a momentum-based day trading strategy. This script uses the API provided by [Alpaca](https://alpaca.markets/). A brokerage account with Alpaca, available to US customers, is required to access the [Polygon](https://polygon.io/) data stream used by this algorithm.\n",
    "\n",
    "## Project Description\n",
    "\n",
    "This example code is meant to illustrate the use of Alpaca's API when used with Polygon's live data streaming services to create a momentum-based day trading algorithm. \n",
    "Note that the timeframe may be changed to suit your trading style and preferences. While it is currently set to trade at a high frequency, it can be modified to pull data on a higher timeframe, such as hourly or even daily, and still be effective.\n",
    "\n",
    "We strongly recommend you learn more about the algorithm and the accomanying strategy [here](https://www.investopedia.com/terms/m/momentum.asp#:~:text=Momentum%20trading%20is%20a%20strategy,both%20price%20and%20volume%20information.).\n",
    "\n",
    "\n",
    "DISCLAIMER: This algorithm is an educational foundation for you to build upon. There are no guarantees of profit or loss if used in a live trading environment. Furthermore, it is strongly recommended to store your API keys in a secure manner, such as with a config.env file, and not directly in the code as plain text. \n",
    "\n",
    "## Installation\n",
    "\n",
    "First clone the repository with \n",
    "> git clone git@github.com:alpacahq/Momentum-Trading-Example.git\n",
    "Then, install the required packages with `pip install -r requirements.txt`. It is recommended to use a virtual environment for this.\n",
    "\n",
    "\n",
    "## Running the Script\n",
    "\n",
    "Note that near the top of the file, there are placeholders for your API information - your key ID, your secret key, and the URL you want to connect to. You can get all that information from the Alpaca dashboard. Replace the placeholder strings with your own information, and the script is ready to run with `python algo.py`. **Please note that running with Python 3.6 is required.**\n",
    "\n",
    "## Algorithm Logic and Breakdown\n",
    "\n",
    "There are parameters to be set in the beginning which are defined by your personal risk tolerance/aversion:\n",
    "\n",
    "```py\n",
    "    # We only consider stocks with per-share prices inside this range\n",
    "    min_share_price = 2.0\n",
    "    max_share_price = 13.0\n",
    "    # Minimum previous-day dollar volume for a stock we might consider\n",
    "    min_last_dv = 500000\n",
    "    # Stop limit to default to\n",
    "    default_stop = .95\n",
    "    # How much of our portfolio to allocate to any one position\n",
    "    risk = 0.001\n",
    "```\n",
    "\n",
    "This algorithm may buy stocks during a 45 minute period each day, starting 15 minutes after market open. (The first 15 minutes are avoided, as the high volatility can lead to poor performance.) \n",
    "\n",
    "\n",
    "\n",
    "The signals it uses to determine if it should buy a stock are if it has gained 4% from the previous day's close, is above the highest point seen during the first 15 minutes of trading, and if its MACD is positive and increasing. (It also checks that the volume is strong enough to make trades on reliably.) It sells when a stock drops to a stop loss level or increases to a target price level. \n",
    "\n",
    "\n",
    "\n",
    "If there are open positions in your account at the end of the day on a symbol the script is watching, those positions will be liquidated at market. (Potentially holding positions overnight goes against the concept of risk that the algorithm uses, and must be avoided for it to be effective.)\n"
   ]
  }
 ],
 "metadata": {
  "language_info": {
   "name": "python"
  }
 },
 "nbformat": 4,
 "nbformat_minor": 2
}
